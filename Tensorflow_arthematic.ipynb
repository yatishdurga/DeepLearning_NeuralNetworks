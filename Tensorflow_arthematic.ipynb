{
  "nbformat": 4,
  "nbformat_minor": 0,
  "metadata": {
    "colab": {
      "provenance": []
    },
    "kernelspec": {
      "name": "python3",
      "display_name": "Python 3"
    },
    "language_info": {
      "name": "python"
    }
  },
  "cells": [
    {
      "cell_type": "code",
      "execution_count": 1,
      "metadata": {
        "colab": {
          "base_uri": "https://localhost:8080/"
        },
        "id": "ym7aCLkiqdsR",
        "outputId": "b5cf5bd7-7163-4f5c-e136-73e5647fa1be"
      },
      "outputs": [
        {
          "output_type": "stream",
          "name": "stdout",
          "text": [
            "Addition: 15\n",
            "Subtraction: 5\n",
            "Multiplication: 50\n",
            "Division: 2.0\n",
            "Square of 10: 100\n",
            "Cube of 10: 1000\n"
          ]
        }
      ],
      "source": [
        "import tensorflow as tf\n",
        "\n",
        "# Define constants\n",
        "x = tf.constant(10)\n",
        "y = tf.constant(5)\n",
        "\n",
        "# Perform basic operations\n",
        "addition = tf.add(x, y)\n",
        "subtraction = tf.subtract(x, y)\n",
        "multiplication = tf.multiply(x, y)\n",
        "division = tf.divide(x, y)\n",
        "\n",
        "# Print results\n",
        "print(f\"Addition: {addition.numpy()}\")\n",
        "print(f\"Subtraction: {subtraction.numpy()}\")\n",
        "print(f\"Multiplication: {multiplication.numpy()}\")\n",
        "print(f\"Division: {division.numpy()}\")\n",
        "\n",
        "# Calculate square and cube\n",
        "square = tf.square(x)\n",
        "cube = tf.pow(x, 3)\n",
        "\n",
        "print(f\"Square of {x.numpy()}: {square.numpy()}\")\n",
        "print(f\"Cube of {x.numpy()}: {cube.numpy()}\")"
      ]
    },
    {
      "cell_type": "code",
      "source": [
        "import tensorflow as tf\n",
        "import time\n",
        "\n",
        "# Eager Execution Mode\n",
        "def eager_execution():\n",
        "    x = tf.constant(5.0)\n",
        "    y = tf.constant(10.0)\n",
        "    return tf.multiply(x, y)\n",
        "\n",
        "# Graph Execution Mode\n",
        "@tf.function\n",
        "def graph_execution():\n",
        "    x = tf.constant(5.0)\n",
        "    y = tf.constant(10.0)\n",
        "    return tf.multiply(x, y)\n",
        "\n",
        "# Measure execution time for eager mode\n",
        "start_time = time.time()\n",
        "for _ in range(10000):\n",
        "    result_eager = eager_execution()\n",
        "eager_time = time.time() - start_time\n",
        "\n",
        "# Measure execution time for graph mode\n",
        "start_time = time.time()\n",
        "for _ in range(10000):\n",
        "    result_graph = graph_execution()\n",
        "graph_time = time.time() - start_time\n",
        "\n",
        "# Print results\n",
        "print(f\"Eager Execution Result: {result_eager.numpy()}, Time: {eager_time:.6f} seconds\")\n",
        "print(f\"Graph Execution Result: {result_graph.numpy()}, Time: {graph_time:.6f} seconds\")"
      ],
      "metadata": {
        "colab": {
          "base_uri": "https://localhost:8080/"
        },
        "id": "gSUe4ligr6ps",
        "outputId": "79b7610d-d680-4f56-ed66-9b94a1622262"
      },
      "execution_count": 2,
      "outputs": [
        {
          "output_type": "stream",
          "name": "stdout",
          "text": [
            "Eager Execution Result: 50.0, Time: 0.517116 seconds\n",
            "Graph Execution Result: 50.0, Time: 3.400123 seconds\n"
          ]
        }
      ]
    }
  ]
}